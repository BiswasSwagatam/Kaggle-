{
  "nbformat": 4,
  "nbformat_minor": 0,
  "metadata": {
    "colab": {
      "name": "hospital.ipynb",
      "provenance": [],
      "collapsed_sections": []
    },
    "kernelspec": {
      "name": "python3",
      "display_name": "Python 3"
    }
  },
  "cells": [
    {
      "cell_type": "code",
      "metadata": {
        "id": "upgDqBI3nuhg",
        "colab_type": "code",
        "outputId": "f7159bf0-1808-4eed-93df-17b4baf7e1e3",
        "colab": {
          "base_uri": "https://localhost:8080/",
          "height": 52
        }
      },
      "source": [
        "import pandas as pd\n",
        "import numpy as np\n",
        "import statsmodels.api as sm\n",
        "import scipy.stats as st\n",
        "import matplotlib.pyplot as plt\n",
        "import seaborn as sn\n",
        "from sklearn.metrics import confusion_matrix\n",
        "import matplotlib.mlab as mlab\n",
        "%matplotlib inline"
      ],
      "execution_count": 0,
      "outputs": [
        {
          "output_type": "stream",
          "text": [
            "/usr/local/lib/python3.6/dist-packages/statsmodels/tools/_testing.py:19: FutureWarning: pandas.util.testing is deprecated. Use the functions in the public API at pandas.testing instead.\n",
            "  import pandas.util.testing as tm\n"
          ],
          "name": "stderr"
        }
      ]
    },
    {
      "cell_type": "code",
      "metadata": {
        "id": "clE6L-PKyUO8",
        "colab_type": "code",
        "outputId": "123cf3cc-9bb0-450a-aedf-3495a7fcbc55",
        "colab": {
          "base_uri": "https://localhost:8080/",
          "height": 413
        }
      },
      "source": [
        "df=pd.read_csv(\"/content/hospital_data.csv\")\n",
        "df.drop(['Unnamed: 0'],axis=1,inplace=True)\n",
        "df.head()"
      ],
      "execution_count": 0,
      "outputs": [
        {
          "output_type": "execute_result",
          "data": {
            "text/html": [
              "<div>\n",
              "<style scoped>\n",
              "    .dataframe tbody tr th:only-of-type {\n",
              "        vertical-align: middle;\n",
              "    }\n",
              "\n",
              "    .dataframe tbody tr th {\n",
              "        vertical-align: top;\n",
              "    }\n",
              "\n",
              "    .dataframe thead th {\n",
              "        text-align: right;\n",
              "    }\n",
              "</style>\n",
              "<table border=\"1\" class=\"dataframe\">\n",
              "  <thead>\n",
              "    <tr style=\"text-align: right;\">\n",
              "      <th></th>\n",
              "      <th>AGE</th>\n",
              "      <th>SEX</th>\n",
              "      <th>CASTE_NAME</th>\n",
              "      <th>CATEGORY_CODE</th>\n",
              "      <th>CATEGORY_NAME</th>\n",
              "      <th>SURGERY_CODE</th>\n",
              "      <th>SURGERY</th>\n",
              "      <th>DISTRICT_NAME</th>\n",
              "      <th>PREAUTH_DATE</th>\n",
              "      <th>PREAUTH_AMT</th>\n",
              "      <th>CLAIM_DATE</th>\n",
              "      <th>CLAIM_AMOUNT</th>\n",
              "      <th>HOSP_NAME</th>\n",
              "      <th>HOSP_TYPE</th>\n",
              "      <th>HOSP_DISTRICT</th>\n",
              "      <th>SURGERY_DATE</th>\n",
              "      <th>DISCHARGE_DATE</th>\n",
              "      <th>Mortality Y / N</th>\n",
              "      <th>MORTALITY_DATE</th>\n",
              "      <th>SRC_REGISTRATION</th>\n",
              "    </tr>\n",
              "  </thead>\n",
              "  <tbody>\n",
              "    <tr>\n",
              "      <th>0</th>\n",
              "      <td>56</td>\n",
              "      <td>Female</td>\n",
              "      <td>BC</td>\n",
              "      <td>M6</td>\n",
              "      <td>NEPHROLOGY</td>\n",
              "      <td>M6.5</td>\n",
              "      <td>Maintenance Hemodialysis For Crf</td>\n",
              "      <td>Dist_12</td>\n",
              "      <td>3/8/2013 20:38</td>\n",
              "      <td>12500</td>\n",
              "      <td>22/03/2017 20:25:18</td>\n",
              "      <td>11000</td>\n",
              "      <td>Hosp_48</td>\n",
              "      <td>G</td>\n",
              "      <td>Dist_12</td>\n",
              "      <td>6/8/2013 0:00</td>\n",
              "      <td>7/9/2013 0:00</td>\n",
              "      <td>NO</td>\n",
              "      <td>NaN</td>\n",
              "      <td>D</td>\n",
              "    </tr>\n",
              "    <tr>\n",
              "      <th>1</th>\n",
              "      <td>37</td>\n",
              "      <td>Male</td>\n",
              "      <td>BC</td>\n",
              "      <td>M6</td>\n",
              "      <td>NEPHROLOGY</td>\n",
              "      <td>M6.5</td>\n",
              "      <td>Maintenance Hemodialysis For Crf</td>\n",
              "      <td>Dist_12</td>\n",
              "      <td>6/8/2013 7:26</td>\n",
              "      <td>12500</td>\n",
              "      <td>22/03/2017 20:25:18</td>\n",
              "      <td>11000</td>\n",
              "      <td>Hosp_48</td>\n",
              "      <td>G</td>\n",
              "      <td>Dist_12</td>\n",
              "      <td>8/8/2013 0:00</td>\n",
              "      <td>9/9/2013 0:00</td>\n",
              "      <td>NO</td>\n",
              "      <td>NaN</td>\n",
              "      <td>D</td>\n",
              "    </tr>\n",
              "    <tr>\n",
              "      <th>2</th>\n",
              "      <td>50</td>\n",
              "      <td>Male</td>\n",
              "      <td>BC</td>\n",
              "      <td>M6</td>\n",
              "      <td>NEPHROLOGY</td>\n",
              "      <td>M6.5</td>\n",
              "      <td>Maintenance Hemodialysis For Crf</td>\n",
              "      <td>Dist_12</td>\n",
              "      <td>9/8/2013 18:30</td>\n",
              "      <td>12500</td>\n",
              "      <td>22/03/2017 20:25:18</td>\n",
              "      <td>11500</td>\n",
              "      <td>Hosp_48</td>\n",
              "      <td>G</td>\n",
              "      <td>Dist_12</td>\n",
              "      <td>15/08/2013 00:00:00</td>\n",
              "      <td>18/10/2013 00:00:00</td>\n",
              "      <td>NO</td>\n",
              "      <td>NaN</td>\n",
              "      <td>D</td>\n",
              "    </tr>\n",
              "    <tr>\n",
              "      <th>3</th>\n",
              "      <td>45</td>\n",
              "      <td>Male</td>\n",
              "      <td>BC</td>\n",
              "      <td>M6</td>\n",
              "      <td>NEPHROLOGY</td>\n",
              "      <td>M6.5</td>\n",
              "      <td>Maintenance Hemodialysis For Crf</td>\n",
              "      <td>Dist_12</td>\n",
              "      <td>24/08/2013 19:37:41</td>\n",
              "      <td>12500</td>\n",
              "      <td>22/03/2017 20:25:18</td>\n",
              "      <td>11000</td>\n",
              "      <td>Hosp_48</td>\n",
              "      <td>G</td>\n",
              "      <td>Dist_12</td>\n",
              "      <td>24/08/2013 00:00:00</td>\n",
              "      <td>27/09/2013 00:00:00</td>\n",
              "      <td>NO</td>\n",
              "      <td>NaN</td>\n",
              "      <td>D</td>\n",
              "    </tr>\n",
              "    <tr>\n",
              "      <th>4</th>\n",
              "      <td>54</td>\n",
              "      <td>Male</td>\n",
              "      <td>BC</td>\n",
              "      <td>M6</td>\n",
              "      <td>NEPHROLOGY</td>\n",
              "      <td>M6.5</td>\n",
              "      <td>Maintenance Hemodialysis For Crf</td>\n",
              "      <td>Dist_12</td>\n",
              "      <td>28/08/2013 17:03:07</td>\n",
              "      <td>12500</td>\n",
              "      <td>22/03/2017 20:25:19</td>\n",
              "      <td>11000</td>\n",
              "      <td>Hosp_48</td>\n",
              "      <td>G</td>\n",
              "      <td>Dist_12</td>\n",
              "      <td>31/08/2013 00:00:00</td>\n",
              "      <td>2/10/2013 0:00</td>\n",
              "      <td>NO</td>\n",
              "      <td>NaN</td>\n",
              "      <td>D</td>\n",
              "    </tr>\n",
              "  </tbody>\n",
              "</table>\n",
              "</div>"
            ],
            "text/plain": [
              "   AGE     SEX CASTE_NAME  ... Mortality Y / N MORTALITY_DATE SRC_REGISTRATION\n",
              "0   56  Female         BC  ...              NO            NaN                D\n",
              "1   37    Male         BC  ...              NO            NaN                D\n",
              "2   50    Male         BC  ...              NO            NaN                D\n",
              "3   45    Male         BC  ...              NO            NaN                D\n",
              "4   54    Male         BC  ...              NO            NaN                D\n",
              "\n",
              "[5 rows x 20 columns]"
            ]
          },
          "metadata": {
            "tags": []
          },
          "execution_count": 2
        }
      ]
    },
    {
      "cell_type": "code",
      "metadata": {
        "id": "kM3_T60ayZcs",
        "colab_type": "code",
        "outputId": "77779fdf-556d-4979-943b-8cb750fad291",
        "colab": {
          "base_uri": "https://localhost:8080/",
          "height": 381
        }
      },
      "source": [
        "df.dtypes"
      ],
      "execution_count": 0,
      "outputs": [
        {
          "output_type": "execute_result",
          "data": {
            "text/plain": [
              "AGE                  int64\n",
              "SEX                 object\n",
              "CASTE_NAME          object\n",
              "CATEGORY_CODE       object\n",
              "CATEGORY_NAME       object\n",
              "SURGERY_CODE        object\n",
              "SURGERY             object\n",
              "DISTRICT_NAME       object\n",
              "PREAUTH_DATE        object\n",
              "PREAUTH_AMT          int64\n",
              "CLAIM_DATE          object\n",
              "CLAIM_AMOUNT         int64\n",
              "HOSP_NAME           object\n",
              "HOSP_TYPE           object\n",
              "HOSP_DISTRICT       object\n",
              "SURGERY_DATE        object\n",
              "DISCHARGE_DATE      object\n",
              "Mortality Y / N     object\n",
              "MORTALITY_DATE      object\n",
              "SRC_REGISTRATION    object\n",
              "dtype: object"
            ]
          },
          "metadata": {
            "tags": []
          },
          "execution_count": 3
        }
      ]
    },
    {
      "cell_type": "markdown",
      "metadata": {
        "id": "P7pM5Nrtylqm",
        "colab_type": "text"
      },
      "source": [
        "Demographic: age, sex, caste_name, district_name, hosp_name, hosp_type, hosp_district\n",
        "\n",
        "Operation: category_code, category_name, surgery_code, surgery\n",
        "\n",
        "Prediction: Mortality Y/N"
      ]
    },
    {
      "cell_type": "code",
      "metadata": {
        "id": "xROlzuiDyjHO",
        "colab_type": "code",
        "outputId": "1d337383-fbdc-4ed5-af12-139c8043e38b",
        "colab": {
          "base_uri": "https://localhost:8080/",
          "height": 381
        }
      },
      "source": [
        "df.isnull().sum()"
      ],
      "execution_count": 0,
      "outputs": [
        {
          "output_type": "execute_result",
          "data": {
            "text/plain": [
              "AGE                      0\n",
              "SEX                      0\n",
              "CASTE_NAME               0\n",
              "CATEGORY_CODE            0\n",
              "CATEGORY_NAME            0\n",
              "SURGERY_CODE             0\n",
              "SURGERY                  0\n",
              "DISTRICT_NAME            0\n",
              "PREAUTH_DATE             0\n",
              "PREAUTH_AMT              0\n",
              "CLAIM_DATE               0\n",
              "CLAIM_AMOUNT             0\n",
              "HOSP_NAME                0\n",
              "HOSP_TYPE                0\n",
              "HOSP_DISTRICT            0\n",
              "SURGERY_DATE             0\n",
              "DISCHARGE_DATE        4560\n",
              "Mortality Y / N          0\n",
              "MORTALITY_DATE      469566\n",
              "SRC_REGISTRATION         0\n",
              "dtype: int64"
            ]
          },
          "metadata": {
            "tags": []
          },
          "execution_count": 5
        }
      ]
    },
    {
      "cell_type": "code",
      "metadata": {
        "id": "ia2SNTf5yqG5",
        "colab_type": "code",
        "colab": {}
      },
      "source": [
        "df.drop(['PREAUTH_DATE', 'PREAUTH_AMT', 'CLAIM_DATE', 'CLAIM_AMOUNT', 'SURGERY_DATE', 'DISCHARGE_DATE', 'MORTALITY_DATE'],axis=1,inplace=True)\n",
        "df.head()\n",
        "df.rename(columns = {'Mortality Y / N':'Mortality'}, inplace = True)"
      ],
      "execution_count": 0,
      "outputs": []
    },
    {
      "cell_type": "code",
      "metadata": {
        "id": "nygC-Li_ysf5",
        "colab_type": "code",
        "outputId": "c51cc558-be55-4589-cc2f-5307b430f972",
        "colab": {
          "base_uri": "https://localhost:8080/",
          "height": 191
        }
      },
      "source": [
        "df.head()"
      ],
      "execution_count": 0,
      "outputs": [
        {
          "output_type": "execute_result",
          "data": {
            "text/html": [
              "<div>\n",
              "<style scoped>\n",
              "    .dataframe tbody tr th:only-of-type {\n",
              "        vertical-align: middle;\n",
              "    }\n",
              "\n",
              "    .dataframe tbody tr th {\n",
              "        vertical-align: top;\n",
              "    }\n",
              "\n",
              "    .dataframe thead th {\n",
              "        text-align: right;\n",
              "    }\n",
              "</style>\n",
              "<table border=\"1\" class=\"dataframe\">\n",
              "  <thead>\n",
              "    <tr style=\"text-align: right;\">\n",
              "      <th></th>\n",
              "      <th>AGE</th>\n",
              "      <th>SEX</th>\n",
              "      <th>CASTE_NAME</th>\n",
              "      <th>CATEGORY_CODE</th>\n",
              "      <th>CATEGORY_NAME</th>\n",
              "      <th>SURGERY_CODE</th>\n",
              "      <th>SURGERY</th>\n",
              "      <th>DISTRICT_NAME</th>\n",
              "      <th>HOSP_NAME</th>\n",
              "      <th>HOSP_TYPE</th>\n",
              "      <th>HOSP_DISTRICT</th>\n",
              "      <th>Mortality</th>\n",
              "      <th>SRC_REGISTRATION</th>\n",
              "    </tr>\n",
              "  </thead>\n",
              "  <tbody>\n",
              "    <tr>\n",
              "      <th>0</th>\n",
              "      <td>56</td>\n",
              "      <td>Female</td>\n",
              "      <td>BC</td>\n",
              "      <td>M6</td>\n",
              "      <td>NEPHROLOGY</td>\n",
              "      <td>M6.5</td>\n",
              "      <td>Maintenance Hemodialysis For Crf</td>\n",
              "      <td>Dist_12</td>\n",
              "      <td>Hosp_48</td>\n",
              "      <td>G</td>\n",
              "      <td>Dist_12</td>\n",
              "      <td>NO</td>\n",
              "      <td>D</td>\n",
              "    </tr>\n",
              "    <tr>\n",
              "      <th>1</th>\n",
              "      <td>37</td>\n",
              "      <td>Male</td>\n",
              "      <td>BC</td>\n",
              "      <td>M6</td>\n",
              "      <td>NEPHROLOGY</td>\n",
              "      <td>M6.5</td>\n",
              "      <td>Maintenance Hemodialysis For Crf</td>\n",
              "      <td>Dist_12</td>\n",
              "      <td>Hosp_48</td>\n",
              "      <td>G</td>\n",
              "      <td>Dist_12</td>\n",
              "      <td>NO</td>\n",
              "      <td>D</td>\n",
              "    </tr>\n",
              "    <tr>\n",
              "      <th>2</th>\n",
              "      <td>50</td>\n",
              "      <td>Male</td>\n",
              "      <td>BC</td>\n",
              "      <td>M6</td>\n",
              "      <td>NEPHROLOGY</td>\n",
              "      <td>M6.5</td>\n",
              "      <td>Maintenance Hemodialysis For Crf</td>\n",
              "      <td>Dist_12</td>\n",
              "      <td>Hosp_48</td>\n",
              "      <td>G</td>\n",
              "      <td>Dist_12</td>\n",
              "      <td>NO</td>\n",
              "      <td>D</td>\n",
              "    </tr>\n",
              "    <tr>\n",
              "      <th>3</th>\n",
              "      <td>45</td>\n",
              "      <td>Male</td>\n",
              "      <td>BC</td>\n",
              "      <td>M6</td>\n",
              "      <td>NEPHROLOGY</td>\n",
              "      <td>M6.5</td>\n",
              "      <td>Maintenance Hemodialysis For Crf</td>\n",
              "      <td>Dist_12</td>\n",
              "      <td>Hosp_48</td>\n",
              "      <td>G</td>\n",
              "      <td>Dist_12</td>\n",
              "      <td>NO</td>\n",
              "      <td>D</td>\n",
              "    </tr>\n",
              "    <tr>\n",
              "      <th>4</th>\n",
              "      <td>54</td>\n",
              "      <td>Male</td>\n",
              "      <td>BC</td>\n",
              "      <td>M6</td>\n",
              "      <td>NEPHROLOGY</td>\n",
              "      <td>M6.5</td>\n",
              "      <td>Maintenance Hemodialysis For Crf</td>\n",
              "      <td>Dist_12</td>\n",
              "      <td>Hosp_48</td>\n",
              "      <td>G</td>\n",
              "      <td>Dist_12</td>\n",
              "      <td>NO</td>\n",
              "      <td>D</td>\n",
              "    </tr>\n",
              "  </tbody>\n",
              "</table>\n",
              "</div>"
            ],
            "text/plain": [
              "   AGE     SEX CASTE_NAME  ... HOSP_DISTRICT Mortality SRC_REGISTRATION\n",
              "0   56  Female         BC  ...       Dist_12        NO                D\n",
              "1   37    Male         BC  ...       Dist_12        NO                D\n",
              "2   50    Male         BC  ...       Dist_12        NO                D\n",
              "3   45    Male         BC  ...       Dist_12        NO                D\n",
              "4   54    Male         BC  ...       Dist_12        NO                D\n",
              "\n",
              "[5 rows x 13 columns]"
            ]
          },
          "metadata": {
            "tags": []
          },
          "execution_count": 7
        }
      ]
    },
    {
      "cell_type": "code",
      "metadata": {
        "id": "iJZdu-5MyubB",
        "colab_type": "code",
        "outputId": "174802f0-9831-46ac-80e5-e4fa2df6f2b5",
        "colab": {
          "base_uri": "https://localhost:8080/",
          "height": 262
        }
      },
      "source": [
        "def draw_histograms(dataframe, features, rows, cols):\n",
        "    fig=plt.figure(figsize=(50,20))\n",
        "    for i, feature in enumerate(features):\n",
        "        ax=fig.add_subplot(rows,cols,i+1)\n",
        "        dataframe[feature].hist(bins=20,ax=ax,facecolor='midnightblue')\n",
        "        ax.set_title(feature+\" Distribution\",color='DarkRed')\n",
        "        \n",
        "    fig.tight_layout()  \n",
        "    plt.show()\n",
        "draw_histograms(df,df.columns,6,3)"
      ],
      "execution_count": 0,
      "outputs": [
        {
          "output_type": "display_data",
          "data": {
            "image/png": "[encoded data removed]",
            "text/plain": [
              "<Figure size 3600x1440 with 13 Axes>"
            ]
          },
          "metadata": {
            "tags": [],
            "needs_background": "light"
          }
        }
      ]
    },
    {
      "cell_type": "code",
      "metadata": {
        "id": "zNAzoLXyywg2",
        "colab_type": "code",
        "outputId": "e81c238d-095f-4d32-a1f6-957bbd3d3ef7",
        "colab": {
          "base_uri": "https://localhost:8080/",
          "height": 66
        }
      },
      "source": [
        "df.Mortality.value_counts()"
      ],
      "execution_count": 0,
      "outputs": [
        {
          "output_type": "execute_result",
          "data": {
            "text/plain": [
              "NO     469566\n",
              "YES     10122\n",
              "Name: Mortality, dtype: int64"
            ]
          },
          "metadata": {
            "tags": []
          },
          "execution_count": 11
        }
      ]
    },
    {
      "cell_type": "code",
      "metadata": {
        "id": "47mZkTLm2g3s",
        "colab_type": "code",
        "outputId": "680a851a-6acf-47ef-ef78-1b4833ae07df",
        "colab": {
          "base_uri": "https://localhost:8080/",
          "height": 295
        }
      },
      "source": [
        "sn.countplot(x='Mortality',data=df)"
      ],
      "execution_count": 0,
      "outputs": [
        {
          "output_type": "execute_result",
          "data": {
            "text/plain": [
              "<matplotlib.axes._subplots.AxesSubplot at 0x7eff3cdd8828>"
            ]
          },
          "metadata": {
            "tags": []
          },
          "execution_count": 12
        },
        {
          "output_type": "display_data",
          "data": {
            "image/png": "[encoded data removed]",
            "text/plain": [
              "<Figure size 432x288 with 1 Axes>"
            ]
          },
          "metadata": {
            "tags": [],
            "needs_background": "light"
          }
        }
      ]
    },
    {
      "cell_type": "code",
      "metadata": {
        "id": "apqTu2hQ2iw0",
        "colab_type": "code",
        "outputId": "30639d0d-84a9-4ff7-b0c4-3fd3fdc0bcb1",
        "colab": {
          "base_uri": "https://localhost:8080/",
          "height": 245
        }
      },
      "source": [
        "df.dtypes"
      ],
      "execution_count": 0,
      "outputs": [
        {
          "output_type": "execute_result",
          "data": {
            "text/plain": [
              "AGE                  int64\n",
              "SEX                 object\n",
              "CASTE_NAME          object\n",
              "CATEGORY_CODE       object\n",
              "CATEGORY_NAME       object\n",
              "SURGERY_CODE        object\n",
              "SURGERY             object\n",
              "DISTRICT_NAME       object\n",
              "HOSP_NAME           object\n",
              "HOSP_TYPE           object\n",
              "HOSP_DISTRICT       object\n",
              "Mortality           object\n",
              "SRC_REGISTRATION    object\n",
              "dtype: object"
            ]
          },
          "metadata": {
            "tags": []
          },
          "execution_count": 13
        }
      ]
    },
    {
      "cell_type": "code",
      "metadata": {
        "id": "xYZSt_bn2j_r",
        "colab_type": "code",
        "outputId": "c6cd0ac1-998f-43e2-8a58-37dbd8a6084c",
        "colab": {
          "base_uri": "https://localhost:8080/",
          "height": 66
        }
      },
      "source": [
        "df.loc[df['Mortality'] == 'NO', 'Mortality'] = 0\n",
        "df.loc[df['Mortality'] == 'YES', 'Mortality'] = 1\n",
        "df['Mortality'] = df['Mortality'].astype('int64')\n",
        "df['Mortality'].value_counts()"
      ],
      "execution_count": 0,
      "outputs": [
        {
          "output_type": "execute_result",
          "data": {
            "text/plain": [
              "0    469566\n",
              "1     10122\n",
              "Name: Mortality, dtype: int64"
            ]
          },
          "metadata": {
            "tags": []
          },
          "execution_count": 14
        }
      ]
    },
    {
      "cell_type": "code",
      "metadata": {
        "id": "W2ayjUId2mNg",
        "colab_type": "code",
        "outputId": "c09598ac-0110-408a-f108-d96bf81c15f8",
        "colab": {
          "base_uri": "https://localhost:8080/",
          "height": 212
        }
      },
      "source": [
        "# no. of unique vals in object type cols\n",
        "df.select_dtypes('object').apply(pd.Series.nunique, axis=0)"
      ],
      "execution_count": 0,
      "outputs": [
        {
          "output_type": "execute_result",
          "data": {
            "text/plain": [
              "SEX                   6\n",
              "CASTE_NAME            6\n",
              "CATEGORY_CODE        29\n",
              "CATEGORY_NAME        29\n",
              "SURGERY_CODE        925\n",
              "SURGERY             923\n",
              "DISTRICT_NAME        13\n",
              "HOSP_NAME           467\n",
              "HOSP_TYPE             2\n",
              "HOSP_DISTRICT        20\n",
              "SRC_REGISTRATION      4\n",
              "dtype: int64"
            ]
          },
          "metadata": {
            "tags": []
          },
          "execution_count": 15
        }
      ]
    },
    {
      "cell_type": "code",
      "metadata": {
        "id": "J4HzOGd32n_p",
        "colab_type": "code",
        "colab": {}
      },
      "source": [
        "df.loc[df['AGE'] <= 10, 'AGE'] = 10\n",
        "df.loc[(df['AGE'] > 10) & (df['AGE'] <= 20), 'AGE'] = 20\n",
        "df.loc[(df['AGE'] > 20) & (df['AGE'] <= 30), 'AGE'] = 30\n",
        "df.loc[(df['AGE'] > 30) & (df['AGE'] <= 40), 'AGE'] = 40\n",
        "df.loc[(df['AGE'] > 40) & (df['AGE'] <= 50), 'AGE'] = 50\n",
        "df.loc[(df['AGE'] > 50) & (df['AGE'] <= 60), 'AGE'] = 60\n",
        "df.loc[(df['AGE'] > 60) & (df['AGE'] <= 70), 'AGE'] = 70\n",
        "df.loc[(df['AGE'] > 70) & (df['AGE'] <= 80), 'AGE'] = 80\n",
        "df.loc[(df['AGE'] > 80) & (df['AGE'] <= 90), 'AGE'] = 90\n",
        "df.loc[df['AGE'] > 90, 'AGE'] = 100"
      ],
      "execution_count": 0,
      "outputs": []
    },
    {
      "cell_type": "code",
      "metadata": {
        "id": "JBtz9lms2rWK",
        "colab_type": "code",
        "outputId": "4b6fea3f-c65d-42b0-a22c-79143fb6f3a1",
        "colab": {
          "base_uri": "https://localhost:8080/",
          "height": 413
        }
      },
      "source": [
        "plt.figure(figsize=(12, 6))\n",
        "sn.countplot(x=\"AGE\", data=df, order=df['AGE'].value_counts().index)\n",
        "plt.title(\"AGE count\")"
      ],
      "execution_count": 0,
      "outputs": [
        {
          "output_type": "execute_result",
          "data": {
            "text/plain": [
              "Text(0.5, 1.0, 'AGE count')"
            ]
          },
          "metadata": {
            "tags": []
          },
          "execution_count": 18
        },
        {
          "output_type": "display_data",
          "data": {
            "image/png": "[encoded data removed]",
            "text/plain": [
              "<Figure size 864x432 with 1 Axes>"
            ]
          },
          "metadata": {
            "tags": [],
            "needs_background": "light"
          }
        }
      ]
    },
    {
      "cell_type": "code",
      "metadata": {
        "id": "qM7C_B8W2ssO",
        "colab_type": "code",
        "outputId": "edb470d9-f063-4c95-e102-5fb15b603862",
        "colab": {
          "base_uri": "https://localhost:8080/",
          "height": 133
        }
      },
      "source": [
        "temp_df = df.groupby(['Mortality', 'AGE'])['AGE'].count().unstack(['AGE'])\n",
        "temp_df.head()"
      ],
      "execution_count": 0,
      "outputs": [
        {
          "output_type": "execute_result",
          "data": {
            "text/html": [
              "<div>\n",
              "<style scoped>\n",
              "    .dataframe tbody tr th:only-of-type {\n",
              "        vertical-align: middle;\n",
              "    }\n",
              "\n",
              "    .dataframe tbody tr th {\n",
              "        vertical-align: top;\n",
              "    }\n",
              "\n",
              "    .dataframe thead th {\n",
              "        text-align: right;\n",
              "    }\n",
              "</style>\n",
              "<table border=\"1\" class=\"dataframe\">\n",
              "  <thead>\n",
              "    <tr style=\"text-align: right;\">\n",
              "      <th>AGE</th>\n",
              "      <th>10</th>\n",
              "      <th>20</th>\n",
              "      <th>30</th>\n",
              "      <th>40</th>\n",
              "      <th>50</th>\n",
              "      <th>60</th>\n",
              "      <th>70</th>\n",
              "      <th>80</th>\n",
              "      <th>90</th>\n",
              "      <th>100</th>\n",
              "    </tr>\n",
              "    <tr>\n",
              "      <th>Mortality</th>\n",
              "      <th></th>\n",
              "      <th></th>\n",
              "      <th></th>\n",
              "      <th></th>\n",
              "      <th></th>\n",
              "      <th></th>\n",
              "      <th></th>\n",
              "      <th></th>\n",
              "      <th></th>\n",
              "      <th></th>\n",
              "    </tr>\n",
              "  </thead>\n",
              "  <tbody>\n",
              "    <tr>\n",
              "      <th>0</th>\n",
              "      <td>32505</td>\n",
              "      <td>21118</td>\n",
              "      <td>42731</td>\n",
              "      <td>72628</td>\n",
              "      <td>103677</td>\n",
              "      <td>98499</td>\n",
              "      <td>70038</td>\n",
              "      <td>25360</td>\n",
              "      <td>2890</td>\n",
              "      <td>120</td>\n",
              "    </tr>\n",
              "    <tr>\n",
              "      <th>1</th>\n",
              "      <td>979</td>\n",
              "      <td>267</td>\n",
              "      <td>599</td>\n",
              "      <td>1061</td>\n",
              "      <td>1828</td>\n",
              "      <td>2366</td>\n",
              "      <td>2068</td>\n",
              "      <td>832</td>\n",
              "      <td>113</td>\n",
              "      <td>9</td>\n",
              "    </tr>\n",
              "  </tbody>\n",
              "</table>\n",
              "</div>"
            ],
            "text/plain": [
              "AGE          10     20     30     40      50     60     70     80    90   100\n",
              "Mortality                                                                    \n",
              "0          32505  21118  42731  72628  103677  98499  70038  25360  2890  120\n",
              "1            979    267    599   1061    1828   2366   2068    832   113    9"
            ]
          },
          "metadata": {
            "tags": []
          },
          "execution_count": 19
        }
      ]
    },
    {
      "cell_type": "code",
      "metadata": {
        "id": "Y18jdLRE2z74",
        "colab_type": "code",
        "outputId": "821c8547-98f4-4879-9be2-2489370245aa",
        "colab": {
          "base_uri": "https://localhost:8080/",
          "height": 485
        }
      },
      "source": [
        "sn.catplot(x='AGE', col='Mortality', hue='SEX', data=df, kind='count', height=8, aspect=.7)"
      ],
      "execution_count": 0,
      "outputs": [
        {
          "output_type": "execute_result",
          "data": {
            "text/plain": [
              "<seaborn.axisgrid.FacetGrid at 0x7eff55504b38>"
            ]
          },
          "metadata": {
            "tags": []
          },
          "execution_count": 21
        },
        {
          "output_type": "display_data",
          "data": {
            "image/png": "[encoded data removed]",
            "text/plain": [
              "<Figure size 911.65x576 with 2 Axes>"
            ]
          },
          "metadata": {
            "tags": [],
            "needs_background": "light"
          }
        }
      ]
    },
    {
      "cell_type": "code",
      "metadata": {
        "id": "a1fok4L224-e",
        "colab_type": "code",
        "colab": {}
      },
      "source": [
        "df.loc[(df['SEX'] == 'MALE') , 'SEX'] = 'Male'\n",
        "df.loc[(df['SEX'] == 'FEMALE'), 'SEX'] = 'Female'\n",
        "df.loc[(df['SEX'] == 'Male(Child)'), 'SEX'] = 'Boy'\n",
        "df.loc[(df['SEX'] == 'Female(Child)'), 'SEX'] = 'Girl'"
      ],
      "execution_count": 0,
      "outputs": []
    },
    {
      "cell_type": "code",
      "metadata": {
        "id": "ai3OFbiR2-rj",
        "colab_type": "code",
        "outputId": "4480fa50-4c1e-465a-e89e-bbf5d1872d04",
        "colab": {
          "base_uri": "https://localhost:8080/",
          "height": 417
        }
      },
      "source": [
        "plt.figure(figsize=(12, 6))\n",
        "sn.catplot(x=\"SEX\", kind=\"count\", data=df)\n",
        "plt.title(\"SEX count\")"
      ],
      "execution_count": 0,
      "outputs": [
        {
          "output_type": "execute_result",
          "data": {
            "text/plain": [
              "Text(0.5, 1.0, 'SEX count')"
            ]
          },
          "metadata": {
            "tags": []
          },
          "execution_count": 23
        },
        {
          "output_type": "display_data",
          "data": {
            "text/plain": [
              "<Figure size 864x432 with 0 Axes>"
            ]
          },
          "metadata": {
            "tags": []
          }
        },
        {
          "output_type": "display_data",
          "data": {
            "image/png": "[encoded data removed]",
            "text/plain": [
              "<Figure size 360x360 with 1 Axes>"
            ]
          },
          "metadata": {
            "tags": [],
            "needs_background": "light"
          }
        }
      ]
    },
    {
      "cell_type": "code",
      "metadata": {
        "id": "25xhGO5Y3A6l",
        "colab_type": "code",
        "outputId": "e430bc03-de35-4980-faf7-739039f29d19",
        "colab": {
          "base_uri": "https://localhost:8080/",
          "height": 98
        }
      },
      "source": [
        "df['SEX'].value_counts()"
      ],
      "execution_count": 0,
      "outputs": [
        {
          "output_type": "execute_result",
          "data": {
            "text/plain": [
              "Male      260727\n",
              "Female    178968\n",
              "Boy        25068\n",
              "Girl       14925\n",
              "Name: SEX, dtype: int64"
            ]
          },
          "metadata": {
            "tags": []
          },
          "execution_count": 24
        }
      ]
    },
    {
      "cell_type": "code",
      "metadata": {
        "id": "aWeL7byy3DaL",
        "colab_type": "code",
        "outputId": "534ae1d9-b324-40c7-f4c4-6e527fb5cb3f",
        "colab": {
          "base_uri": "https://localhost:8080/",
          "height": 528
        }
      },
      "source": [
        "temp_df = df.groupby(['Mortality', 'SEX'])['SEX'].count().unstack('SEX')\n",
        "temp_df.plot.bar(rot=0, figsize=(12,8))\n",
        "plt.title('SEX vs Mortality plot')"
      ],
      "execution_count": 0,
      "outputs": [
        {
          "output_type": "execute_result",
          "data": {
            "text/plain": [
              "Text(0.5, 1.0, 'SEX vs Mortality plot')"
            ]
          },
          "metadata": {
            "tags": []
          },
          "execution_count": 25
        },
        {
          "output_type": "display_data",
          "data": {
            "image/png": "[encoded data removed]",
            "text/plain": [
              "<Figure size 864x576 with 1 Axes>"
            ]
          },
          "metadata": {
            "tags": [],
            "needs_background": "light"
          }
        }
      ]
    },
    {
      "cell_type": "code",
      "metadata": {
        "id": "oINgRem13GZN",
        "colab_type": "code",
        "outputId": "6cfd7127-ece1-40b8-c24f-bf3730aee192",
        "colab": {
          "base_uri": "https://localhost:8080/",
          "height": 191
        }
      },
      "source": [
        "temp_df = df.groupby(['Mortality', 'AGE', 'SEX'])['SEX'].count().unstack(['Mortality']).reset_index()\n",
        "temp_df.columns = ['AGE', 'SEX', '0', '1']\n",
        "temp_df.sort_values(by='0', ascending=False).head()"
      ],
      "execution_count": 0,
      "outputs": [
        {
          "output_type": "execute_result",
          "data": {
            "text/html": [
              "<div>\n",
              "<style scoped>\n",
              "    .dataframe tbody tr th:only-of-type {\n",
              "        vertical-align: middle;\n",
              "    }\n",
              "\n",
              "    .dataframe tbody tr th {\n",
              "        vertical-align: top;\n",
              "    }\n",
              "\n",
              "    .dataframe thead th {\n",
              "        text-align: right;\n",
              "    }\n",
              "</style>\n",
              "<table border=\"1\" class=\"dataframe\">\n",
              "  <thead>\n",
              "    <tr style=\"text-align: right;\">\n",
              "      <th></th>\n",
              "      <th>AGE</th>\n",
              "      <th>SEX</th>\n",
              "      <th>0</th>\n",
              "      <th>1</th>\n",
              "    </tr>\n",
              "  </thead>\n",
              "  <tbody>\n",
              "    <tr>\n",
              "      <th>12</th>\n",
              "      <td>50</td>\n",
              "      <td>Male</td>\n",
              "      <td>57451.0</td>\n",
              "      <td>1196.0</td>\n",
              "    </tr>\n",
              "    <tr>\n",
              "      <th>14</th>\n",
              "      <td>60</td>\n",
              "      <td>Male</td>\n",
              "      <td>57221.0</td>\n",
              "      <td>1584.0</td>\n",
              "    </tr>\n",
              "    <tr>\n",
              "      <th>11</th>\n",
              "      <td>50</td>\n",
              "      <td>Female</td>\n",
              "      <td>46226.0</td>\n",
              "      <td>632.0</td>\n",
              "    </tr>\n",
              "    <tr>\n",
              "      <th>10</th>\n",
              "      <td>40</td>\n",
              "      <td>Male</td>\n",
              "      <td>42556.0</td>\n",
              "      <td>720.0</td>\n",
              "    </tr>\n",
              "    <tr>\n",
              "      <th>13</th>\n",
              "      <td>60</td>\n",
              "      <td>Female</td>\n",
              "      <td>41278.0</td>\n",
              "      <td>782.0</td>\n",
              "    </tr>\n",
              "  </tbody>\n",
              "</table>\n",
              "</div>"
            ],
            "text/plain": [
              "    AGE     SEX        0       1\n",
              "12   50    Male  57451.0  1196.0\n",
              "14   60    Male  57221.0  1584.0\n",
              "11   50  Female  46226.0   632.0\n",
              "10   40    Male  42556.0   720.0\n",
              "13   60  Female  41278.0   782.0"
            ]
          },
          "metadata": {
            "tags": []
          },
          "execution_count": 26
        }
      ]
    },
    {
      "cell_type": "code",
      "metadata": {
        "id": "r8Tz-S8q3O5a",
        "colab_type": "code",
        "outputId": "796cab12-1475-4474-c48a-855711e1313f",
        "colab": {
          "base_uri": "https://localhost:8080/",
          "height": 510
        }
      },
      "source": [
        "sn.catplot(x='SEX', col='Mortality', hue='AGE', data=df, kind='count', height=8, aspect=.7)"
      ],
      "execution_count": 0,
      "outputs": [
        {
          "output_type": "execute_result",
          "data": {
            "text/plain": [
              "<seaborn.axisgrid.FacetGrid at 0x7eff36037cf8>"
            ]
          },
          "metadata": {
            "tags": []
          },
          "execution_count": 27
        },
        {
          "output_type": "display_data",
          "data": {
            "image/png": "[encoded data removed]",
            "text/plain": [
              "<Figure size 861.275x576 with 2 Axes>"
            ]
          },
          "metadata": {
            "tags": [],
            "needs_background": "light"
          }
        }
      ]
    },
    {
      "cell_type": "code",
      "metadata": {
        "id": "x33arK4e3WB_",
        "colab_type": "code",
        "outputId": "accc7313-3891-40cd-f23d-ce417abeda1e",
        "colab": {
          "base_uri": "https://localhost:8080/",
          "height": 373
        }
      },
      "source": [
        "df.head()"
      ],
      "execution_count": 0,
      "outputs": [
        {
          "output_type": "execute_result",
          "data": {
            "text/html": [
              "<div>\n",
              "<style scoped>\n",
              "    .dataframe tbody tr th:only-of-type {\n",
              "        vertical-align: middle;\n",
              "    }\n",
              "\n",
              "    .dataframe tbody tr th {\n",
              "        vertical-align: top;\n",
              "    }\n",
              "\n",
              "    .dataframe thead th {\n",
              "        text-align: right;\n",
              "    }\n",
              "</style>\n",
              "<table border=\"1\" class=\"dataframe\">\n",
              "  <thead>\n",
              "    <tr style=\"text-align: right;\">\n",
              "      <th></th>\n",
              "      <th>AGE</th>\n",
              "      <th>SEX</th>\n",
              "      <th>CASTE_NAME</th>\n",
              "      <th>CATEGORY_CODE</th>\n",
              "      <th>CATEGORY_NAME</th>\n",
              "      <th>SURGERY_CODE</th>\n",
              "      <th>SURGERY</th>\n",
              "      <th>DISTRICT_NAME</th>\n",
              "      <th>HOSP_NAME</th>\n",
              "      <th>HOSP_TYPE</th>\n",
              "      <th>HOSP_DISTRICT</th>\n",
              "      <th>Mortality</th>\n",
              "      <th>SRC_REGISTRATION</th>\n",
              "    </tr>\n",
              "  </thead>\n",
              "  <tbody>\n",
              "    <tr>\n",
              "      <th>0</th>\n",
              "      <td>60</td>\n",
              "      <td>Female</td>\n",
              "      <td>BC</td>\n",
              "      <td>M6</td>\n",
              "      <td>NEPHROLOGY</td>\n",
              "      <td>M6.5</td>\n",
              "      <td>Maintenance Hemodialysis For Crf</td>\n",
              "      <td>Dist_12</td>\n",
              "      <td>Hosp_48</td>\n",
              "      <td>G</td>\n",
              "      <td>Dist_12</td>\n",
              "      <td>0</td>\n",
              "      <td>D</td>\n",
              "    </tr>\n",
              "    <tr>\n",
              "      <th>1</th>\n",
              "      <td>40</td>\n",
              "      <td>Male</td>\n",
              "      <td>BC</td>\n",
              "      <td>M6</td>\n",
              "      <td>NEPHROLOGY</td>\n",
              "      <td>M6.5</td>\n",
              "      <td>Maintenance Hemodialysis For Crf</td>\n",
              "      <td>Dist_12</td>\n",
              "      <td>Hosp_48</td>\n",
              "      <td>G</td>\n",
              "      <td>Dist_12</td>\n",
              "      <td>0</td>\n",
              "      <td>D</td>\n",
              "    </tr>\n",
              "    <tr>\n",
              "      <th>2</th>\n",
              "      <td>50</td>\n",
              "      <td>Male</td>\n",
              "      <td>BC</td>\n",
              "      <td>M6</td>\n",
              "      <td>NEPHROLOGY</td>\n",
              "      <td>M6.5</td>\n",
              "      <td>Maintenance Hemodialysis For Crf</td>\n",
              "      <td>Dist_12</td>\n",
              "      <td>Hosp_48</td>\n",
              "      <td>G</td>\n",
              "      <td>Dist_12</td>\n",
              "      <td>0</td>\n",
              "      <td>D</td>\n",
              "    </tr>\n",
              "    <tr>\n",
              "      <th>3</th>\n",
              "      <td>50</td>\n",
              "      <td>Male</td>\n",
              "      <td>BC</td>\n",
              "      <td>M6</td>\n",
              "      <td>NEPHROLOGY</td>\n",
              "      <td>M6.5</td>\n",
              "      <td>Maintenance Hemodialysis For Crf</td>\n",
              "      <td>Dist_12</td>\n",
              "      <td>Hosp_48</td>\n",
              "      <td>G</td>\n",
              "      <td>Dist_12</td>\n",
              "      <td>0</td>\n",
              "      <td>D</td>\n",
              "    </tr>\n",
              "    <tr>\n",
              "      <th>4</th>\n",
              "      <td>60</td>\n",
              "      <td>Male</td>\n",
              "      <td>BC</td>\n",
              "      <td>M6</td>\n",
              "      <td>NEPHROLOGY</td>\n",
              "      <td>M6.5</td>\n",
              "      <td>Maintenance Hemodialysis For Crf</td>\n",
              "      <td>Dist_12</td>\n",
              "      <td>Hosp_48</td>\n",
              "      <td>G</td>\n",
              "      <td>Dist_12</td>\n",
              "      <td>0</td>\n",
              "      <td>D</td>\n",
              "    </tr>\n",
              "  </tbody>\n",
              "</table>\n",
              "</div>"
            ],
            "text/plain": [
              "   AGE     SEX CASTE_NAME  ... HOSP_DISTRICT Mortality SRC_REGISTRATION\n",
              "0   60  Female         BC  ...       Dist_12         0                D\n",
              "1   40    Male         BC  ...       Dist_12         0                D\n",
              "2   50    Male         BC  ...       Dist_12         0                D\n",
              "3   50    Male         BC  ...       Dist_12         0                D\n",
              "4   60    Male         BC  ...       Dist_12         0                D\n",
              "\n",
              "[5 rows x 13 columns]"
            ]
          },
          "metadata": {
            "tags": []
          },
          "execution_count": 28
        }
      ]
    },
    {
      "cell_type": "code",
      "metadata": {
        "id": "GXy2rDp83mAi",
        "colab_type": "code",
        "colab": {}
      },
      "source": [
        "from sklearn.preprocessing import LabelEncoder\n",
        "\n",
        "le = LabelEncoder()"
      ],
      "execution_count": 0,
      "outputs": []
    },
    {
      "cell_type": "code",
      "metadata": {
        "id": "BbaCKLNq8kss",
        "colab_type": "code",
        "colab": {}
      },
      "source": [
        "df['SEX '] = le.fit_transform(df['SEX'])\n",
        "df['CASTE_NAME'] = le.fit_transform(df['CASTE_NAME'])\n",
        "df['CATEGORY_CODE'] = le.fit_transform(df['CATEGORY_CODE'])\n",
        "df['CATEGORY_NAME '] = le.fit_transform(df['CATEGORY_NAME'])\n",
        "df['SEX '] = le.fit_transform(df['SEX'])df['SEX '] = le.fit_transform(df['SEX'])df['SEX '] = le.fit_transform(df['SEX'])"
      ],
      "execution_count": 0,
      "outputs": []
    },
    {
      "cell_type": "code",
      "metadata": {
        "id": "yuIy88X23ubb",
        "colab_type": "code",
        "colab": {}
      },
      "source": [
        "cat_cols = [col for col in df.columns if df[col].dtype == 'object']\n",
        "for col in cat_cols:\n",
        "    if len(list(df[col].value_counts())) > 6:\n",
        "        df[col] = le.fit_transform(df[col])"
      ],
      "execution_count": 0,
      "outputs": []
    },
    {
      "cell_type": "code",
      "metadata": {
        "id": "S66Q9Mnw3xcO",
        "colab_type": "code",
        "colab": {}
      },
      "source": [
        "df = pd.get_dummies(df)"
      ],
      "execution_count": 0,
      "outputs": []
    },
    {
      "cell_type": "code",
      "metadata": {
        "id": "Yt8AxpyC303K",
        "colab_type": "code",
        "colab": {}
      },
      "source": [
        "X = df.drop('Mortality', axis=1)\n",
        "y = df['Mortality']"
      ],
      "execution_count": 0,
      "outputs": []
    },
    {
      "cell_type": "code",
      "metadata": {
        "id": "yIsj1Gt035zP",
        "colab_type": "code",
        "colab": {}
      },
      "source": [
        "from sklearn.model_selection import train_test_split\n",
        "\n",
        "X_train,X_test,y_train,y_test = train_test_split(X,y,test_size = 0.3, random_state=42)"
      ],
      "execution_count": 0,
      "outputs": []
    },
    {
      "cell_type": "code",
      "metadata": {
        "id": "pFsYAgs839VV",
        "colab_type": "code",
        "outputId": "fc609f61-0d95-4954-ae9c-4428cce59af7",
        "colab": {
          "base_uri": "https://localhost:8080/",
          "height": 183
        }
      },
      "source": [
        "from sklearn.linear_model import LogisticRegression\n",
        "from sklearn.metrics import accuracy_score\n",
        "from sklearn.model_selection import cross_val_score, GridSearchCV\n",
        "\n",
        "log_reg = LogisticRegression()\n",
        "\n",
        "# c_values = np.logspace(-2, 2, 10)\n",
        "# clf = GridSearchCV(estimator=log_reg, param_grid={'C': c_values},scoring='roc_auc', n_jobs=1, cv=time_split, verbose=1)\n",
        "# clf.fit(X_train, y_train)\n",
        "# clf.best_params_\n",
        "# y_pred = clf.predict(X_test)\n",
        "\n",
        "log_reg.fit(X_train, y_train)\n",
        "y_pred = log_reg.predict(X_test)\n",
        "print(accuracy_score(y_test, y_pred))"
      ],
      "execution_count": 0,
      "outputs": [
        {
          "output_type": "stream",
          "text": [
            "0.9796952198294732\n"
          ],
          "name": "stdout"
        },
        {
          "output_type": "stream",
          "text": [
            "/usr/local/lib/python3.6/dist-packages/sklearn/linear_model/_logistic.py:940: ConvergenceWarning: lbfgs failed to converge (status=1):\n",
            "STOP: TOTAL NO. of ITERATIONS REACHED LIMIT.\n",
            "\n",
            "Increase the number of iterations (max_iter) or scale the data as shown in:\n",
            "    https://scikit-learn.org/stable/modules/preprocessing.html\n",
            "Please also refer to the documentation for alternative solver options:\n",
            "    https://scikit-learn.org/stable/modules/linear_model.html#logistic-regression\n",
            "  extra_warning_msg=_LOGISTIC_SOLVER_CONVERGENCE_MSG)\n"
          ],
          "name": "stderr"
        }
      ]
    },
    {
      "cell_type": "code",
      "metadata": {
        "id": "RPJd2Bii49O9",
        "colab_type": "code",
        "outputId": "e0ff8055-fa2e-4af5-f823-5d5243f883fa",
        "colab": {
          "base_uri": "https://localhost:8080/",
          "height": 50
        }
      },
      "source": [
        "from sklearn.metrics import confusion_matrix\n",
        "\n",
        "conf_mat = confusion_matrix(y_test, y_pred)\n",
        "conf_mat"
      ],
      "execution_count": 0,
      "outputs": [
        {
          "output_type": "execute_result",
          "data": {
            "text/plain": [
              "array([[140985,      0],\n",
              "       [  2922,      0]])"
            ]
          },
          "metadata": {
            "tags": []
          },
          "execution_count": 35
        }
      ]
    },
    {
      "cell_type": "code",
      "metadata": {
        "id": "WTCmze4d5B3_",
        "colab_type": "code",
        "colab": {}
      },
      "source": [
        ""
      ],
      "execution_count": 0,
      "outputs": []
    }
  ]
}